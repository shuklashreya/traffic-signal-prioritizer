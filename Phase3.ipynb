{
 "cells": [
  {
   "cell_type": "markdown",
   "metadata": {},
   "source": [
    "For RetinaNet, the parameters must be in the form of:\n",
    "path/to/img.jpg,x1,y1,x2,y2,class_name\n",
    "<hr>\n",
    "class_name specified above must be a class that exists in a CSV file in the format:\n",
    "str name, int classId"
   ]
  },
  {
   "cell_type": "code",
   "execution_count": 7,
   "metadata": {},
   "outputs": [
    {
     "name": "stdout",
     "output_type": "stream",
     "text": [
      "Populating the interactive namespace from numpy and matplotlib\n"
     ]
    },
    {
     "name": "stderr",
     "output_type": "stream",
     "text": [
      "/Users/stormking/opt/anaconda3/lib/python3.7/site-packages/IPython/core/magics/pylab.py:160: UserWarning: pylab import has clobbered these variables: ['display']\n",
      "`%matplotlib` prevents importing * from pylab and numpy\n",
      "  \"\\n`%matplotlib` prevents importing * from pylab and numpy\"\n"
     ]
    }
   ],
   "source": [
    "#import bounding box code from phase 2\n",
    "%pylab inline\n",
    "import csv\n",
    "import os, sys\n",
    "import xml.etree.ElementTree as ET\n",
    "import matplotlib.patches as patches\n",
    "import matplotlib.pyplot as pl\n",
    "import time\n",
    "import pylab as pl\n",
    "from IPython import display\n"
   ]
  },
  {
   "cell_type": "markdown",
   "metadata": {},
   "source": [
    "# Reading the Data\n",
    "Read the data from the xml file and then convert to csv files necessary for RetinaNet."
   ]
  },
  {
   "cell_type": "code",
   "execution_count": 10,
   "metadata": {},
   "outputs": [],
   "source": [
    "#Remove Data and Class files if they exist\n",
    "if os.path.exists(\"RetinaNetTrainData.csv\"):\n",
    "    os.remove(\"RetinaNetTrainData.csv\")\n",
    "if os.path.exists(\"RetinaNetTestData.csv\"):\n",
    "    os.remove(\"RetinaNetTestData.csv\")\n",
    "if os.path.exists(\"RetinaNetClasses.csv\"):\n",
    "    os.remove(\"RetinaNetClasses.csv\")\n",
    "    \n",
    "#Generate the data and write to file\n",
    "i = 1\n",
    "for file_index in range(5,8):\n",
    "    if file_index == 0:\n",
    "        file_to_parse = 'CityCam/164/164-20160223-09/'\n",
    "    elif file_index == 1:\n",
    "        file_to_parse = 'CityCam/166/166-20160214-11/'\n",
    "    elif file_index == 2:\n",
    "        file_to_parse = 'CityCam/170/170-20160425-18/'\n",
    "    elif file_index == 3:\n",
    "        file_to_parse = 'CityCam/173/173-20160429-07/'\n",
    "    elif file_index == 4:\n",
    "        file_to_parse = 'CityCam/181/181-20151224-15/'\n",
    "    elif file_index == 5:\n",
    "        file_to_parse = 'CityCam/410/410-20160429-07/'\n",
    "    elif file_index == 6:\n",
    "        file_to_parse = 'CityCam/495/495-20160429-07/'\n",
    "    elif file_index == 7:\n",
    "        file_to_parse = 'CityCam/928/928-20160429-07/'\n",
    "    \n",
    "    while i<201:\n",
    "        j = str(i)\n",
    "        full_jpg_path = ''\n",
    "        if i < 10:\n",
    "            tree = ET.parse(file_to_parse +'00000'+j+'.xml')\n",
    "            im = imread(file_to_parse +'00000'+j+'.jpg')\n",
    "            full_jpg_path = file_to_parse +'00000'+j+'.jpg'\n",
    "        elif i < 100:\n",
    "            tree = ET.parse(file_to_parse +'0000'+j+'.xml')\n",
    "            im = imread(file_to_parse +'0000'+j+'.jpg')\n",
    "            full_jpg_path = file_to_parse +'0000'+j+'.jpg'\n",
    "        else:\n",
    "            tree = ET.parse(file_to_parse +'000'+j+'.xml')\n",
    "            im = imread(file_to_parse +'000'+j+'.jpg')\n",
    "            full_jpg_path = file_to_parse +'000'+j+'.jpg'\n",
    "            \n",
    "        root = tree.getroot()\n",
    "        bounding_boxes = []\n",
    "        classes = []\n",
    "        \n",
    "        for child in root:\n",
    "            #Store vehicle and passengers tags\n",
    "            if child.tag == str(\"vehicle\") or child.tag == str(\"passengers\"):\n",
    "                classes.append(child.tag)\n",
    "            #Store bounding box locations\n",
    "            for x in child:\n",
    "                bounding_box_child = []\n",
    "                for y in x:\n",
    "                    bounding_box_child.append(y.text)\n",
    "                if len(bounding_box_child) == 4:\n",
    "                    bounding_boxes.append(bounding_box_child)\n",
    "        #print(\"Info for Folder {0}\".format(file_index + 1))\n",
    "        #print(\"File Path: {0}\".format(full_jpg_path))\n",
    "        #print(\"Bounding Boxes: {0}\".format(bounding_boxes))\n",
    "        #print(\"Annotations: {0}\".format(classes))\n",
    "        \n",
    "        #Generate train data from 150 examples from this file\n",
    "        if i <= 151:\n",
    "            for entry in range(len(bounding_boxes)):\n",
    "                path_for_google_drive = '/content/drive/My Drive/' + full_jpg_path\n",
    "                xMin = max(0, int(bounding_boxes[entry][1]))\n",
    "                yMin = max(0, int(bounding_boxes[entry][3]))\n",
    "                xMax = min(352, int(bounding_boxes[entry][0]))\n",
    "                yMax = min(240, int(bounding_boxes[entry][2]))\n",
    "                row = [path_for_google_drive, xMin, yMin, xMax, yMax, classes[entry]]\n",
    "                #write rows to a csv file\n",
    "                with open('RetinaNetTrainData.csv', 'a') as csvFile:\n",
    "                    writer = csv.writer(csvFile)\n",
    "                    writer.writerow(row)\n",
    "                csvFile.close()\n",
    "        #Generate test data from 50 examples from this file\n",
    "        else:\n",
    "            for entry in range(len(bounding_boxes)):\n",
    "                path_for_google_drive = '/content/drive/My Drive/' + full_jpg_path\n",
    "                xMin = max(0, int(bounding_boxes[entry][1]))\n",
    "                yMin = max(0, int(bounding_boxes[entry][3]))\n",
    "                xMax = min(352, int(bounding_boxes[entry][0]))\n",
    "                yMax = min(240, int(bounding_boxes[entry][2]))\n",
    "                row = [path_for_google_drive, xMin, yMin, xMax, yMax, classes[entry]]\n",
    "                #write rows to a csv file\n",
    "                with open('RetinaNetTestData.csv', 'a') as csvFile:\n",
    "                    writer = csv.writer(csvFile)\n",
    "                    writer.writerow(row)\n",
    "                csvFile.close()\n",
    "            \n",
    "        i = i+1\n",
    "    i=1\n",
    "    \n",
    "#Generate class csv file\n",
    "with open('RetinaNetClasses.csv', 'a') as csvFile:\n",
    "    writer = csv.writer(csvFile)\n",
    "    row1 = ['vehicle', 0]\n",
    "    row2 = ['passengers', 1]\n",
    "    writer.writerow(row1)\n",
    "    writer.writerow(row2)\n",
    "csvFile.close()\n",
    "        "
   ]
  },
  {
   "cell_type": "code",
   "execution_count": null,
   "metadata": {},
   "outputs": [],
   "source": []
  },
  {
   "cell_type": "code",
   "execution_count": null,
   "metadata": {},
   "outputs": [],
   "source": []
  },
  {
   "cell_type": "code",
   "execution_count": null,
   "metadata": {},
   "outputs": [],
   "source": []
  }
 ],
 "metadata": {
  "kernelspec": {
   "display_name": "Python 3",
   "language": "python",
   "name": "python3"
  },
  "language_info": {
   "codemirror_mode": {
    "name": "ipython",
    "version": 3
   },
   "file_extension": ".py",
   "mimetype": "text/x-python",
   "name": "python",
   "nbconvert_exporter": "python",
   "pygments_lexer": "ipython3",
   "version": "3.7.4"
  }
 },
 "nbformat": 4,
 "nbformat_minor": 2
}
